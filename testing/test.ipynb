{
 "cells": [
  {
   "cell_type": "code",
   "execution_count": 7,
   "metadata": {},
   "outputs": [],
   "source": [
    "#using whisper tiny cause large crashes system"
   ]
  },
  {
   "cell_type": "markdown",
   "metadata": {},
   "source": [
    "# Speech to text"
   ]
  },
  {
   "cell_type": "code",
   "execution_count": 1,
   "metadata": {},
   "outputs": [
    {
     "name": "stdout",
     "output_type": "stream",
     "text": [
      "Requirement already satisfied: transformers in /home/users/harshit.sahu/Desktop/github_pros/voicebot/.venv/lib/python3.10/site-packages (4.43.3)\n",
      "Requirement already satisfied: filelock in /home/users/harshit.sahu/Desktop/github_pros/voicebot/.venv/lib/python3.10/site-packages (from transformers) (3.15.4)\n",
      "Requirement already satisfied: huggingface-hub<1.0,>=0.23.2 in /home/users/harshit.sahu/Desktop/github_pros/voicebot/.venv/lib/python3.10/site-packages (from transformers) (0.24.5)\n",
      "Requirement already satisfied: numpy>=1.17 in /home/users/harshit.sahu/Desktop/github_pros/voicebot/.venv/lib/python3.10/site-packages (from transformers) (1.22.0)\n",
      "Requirement already satisfied: packaging>=20.0 in /home/users/harshit.sahu/Desktop/github_pros/voicebot/.venv/lib/python3.10/site-packages (from transformers) (24.1)\n",
      "Requirement already satisfied: pyyaml>=5.1 in /home/users/harshit.sahu/Desktop/github_pros/voicebot/.venv/lib/python3.10/site-packages (from transformers) (6.0.1)\n",
      "Requirement already satisfied: regex!=2019.12.17 in /home/users/harshit.sahu/Desktop/github_pros/voicebot/.venv/lib/python3.10/site-packages (from transformers) (2024.7.24)\n",
      "Requirement already satisfied: requests in /home/users/harshit.sahu/Desktop/github_pros/voicebot/.venv/lib/python3.10/site-packages (from transformers) (2.32.3)\n",
      "Requirement already satisfied: safetensors>=0.4.1 in /home/users/harshit.sahu/Desktop/github_pros/voicebot/.venv/lib/python3.10/site-packages (from transformers) (0.4.3)\n",
      "Requirement already satisfied: tokenizers<0.20,>=0.19 in /home/users/harshit.sahu/Desktop/github_pros/voicebot/.venv/lib/python3.10/site-packages (from transformers) (0.19.1)\n",
      "Requirement already satisfied: tqdm>=4.27 in /home/users/harshit.sahu/Desktop/github_pros/voicebot/.venv/lib/python3.10/site-packages (from transformers) (4.66.4)\n",
      "Requirement already satisfied: fsspec>=2023.5.0 in /home/users/harshit.sahu/Desktop/github_pros/voicebot/.venv/lib/python3.10/site-packages (from huggingface-hub<1.0,>=0.23.2->transformers) (2024.5.0)\n",
      "Requirement already satisfied: typing-extensions>=3.7.4.3 in /home/users/harshit.sahu/Desktop/github_pros/voicebot/.venv/lib/python3.10/site-packages (from huggingface-hub<1.0,>=0.23.2->transformers) (4.12.2)\n",
      "Requirement already satisfied: charset-normalizer<4,>=2 in /home/users/harshit.sahu/Desktop/github_pros/voicebot/.venv/lib/python3.10/site-packages (from requests->transformers) (3.3.2)\n",
      "Requirement already satisfied: idna<4,>=2.5 in /home/users/harshit.sahu/Desktop/github_pros/voicebot/.venv/lib/python3.10/site-packages (from requests->transformers) (3.7)\n",
      "Requirement already satisfied: urllib3<3,>=1.21.1 in /home/users/harshit.sahu/Desktop/github_pros/voicebot/.venv/lib/python3.10/site-packages (from requests->transformers) (2.2.2)\n",
      "Requirement already satisfied: certifi>=2017.4.17 in /home/users/harshit.sahu/Desktop/github_pros/voicebot/.venv/lib/python3.10/site-packages (from requests->transformers) (2024.7.4)\n",
      "\n",
      "\u001b[1m[\u001b[0m\u001b[34;49mnotice\u001b[0m\u001b[1;39;49m]\u001b[0m\u001b[39;49m A new release of pip is available: \u001b[0m\u001b[31;49m24.1.2\u001b[0m\u001b[39;49m -> \u001b[0m\u001b[32;49m24.2\u001b[0m\n",
      "\u001b[1m[\u001b[0m\u001b[34;49mnotice\u001b[0m\u001b[1;39;49m]\u001b[0m\u001b[39;49m To update, run: \u001b[0m\u001b[32;49mpip install --upgrade pip\u001b[0m\n"
     ]
    }
   ],
   "source": [
    "!pip install transformers"
   ]
  },
  {
   "cell_type": "code",
   "execution_count": 2,
   "metadata": {},
   "outputs": [
    {
     "name": "stdout",
     "output_type": "stream",
     "text": [
      "Looking in indexes: https://download.pytorch.org/whl/cu118\n",
      "Requirement already satisfied: torch in /home/users/harshit.sahu/Desktop/github_pros/voicebot/.venv/lib/python3.10/site-packages (2.4.0+cu118)\n",
      "Requirement already satisfied: torchvision in /home/users/harshit.sahu/Desktop/github_pros/voicebot/.venv/lib/python3.10/site-packages (0.19.0+cu118)\n",
      "Requirement already satisfied: torchaudio in /home/users/harshit.sahu/Desktop/github_pros/voicebot/.venv/lib/python3.10/site-packages (2.4.0+cu118)\n",
      "Requirement already satisfied: filelock in /home/users/harshit.sahu/Desktop/github_pros/voicebot/.venv/lib/python3.10/site-packages (from torch) (3.15.4)\n",
      "Requirement already satisfied: typing-extensions>=4.8.0 in /home/users/harshit.sahu/Desktop/github_pros/voicebot/.venv/lib/python3.10/site-packages (from torch) (4.12.2)\n",
      "Requirement already satisfied: sympy in /home/users/harshit.sahu/Desktop/github_pros/voicebot/.venv/lib/python3.10/site-packages (from torch) (1.12)\n",
      "Requirement already satisfied: networkx in /home/users/harshit.sahu/Desktop/github_pros/voicebot/.venv/lib/python3.10/site-packages (from torch) (2.8.8)\n",
      "Requirement already satisfied: jinja2 in /home/users/harshit.sahu/Desktop/github_pros/voicebot/.venv/lib/python3.10/site-packages (from torch) (3.1.3)\n",
      "Requirement already satisfied: fsspec in /home/users/harshit.sahu/Desktop/github_pros/voicebot/.venv/lib/python3.10/site-packages (from torch) (2024.5.0)\n",
      "Requirement already satisfied: nvidia-cuda-nvrtc-cu11==11.8.89 in /home/users/harshit.sahu/Desktop/github_pros/voicebot/.venv/lib/python3.10/site-packages (from torch) (11.8.89)\n",
      "Requirement already satisfied: nvidia-cuda-runtime-cu11==11.8.89 in /home/users/harshit.sahu/Desktop/github_pros/voicebot/.venv/lib/python3.10/site-packages (from torch) (11.8.89)\n",
      "Requirement already satisfied: nvidia-cuda-cupti-cu11==11.8.87 in /home/users/harshit.sahu/Desktop/github_pros/voicebot/.venv/lib/python3.10/site-packages (from torch) (11.8.87)\n",
      "Requirement already satisfied: nvidia-cudnn-cu11==9.1.0.70 in /home/users/harshit.sahu/Desktop/github_pros/voicebot/.venv/lib/python3.10/site-packages (from torch) (9.1.0.70)\n",
      "Requirement already satisfied: nvidia-cublas-cu11==11.11.3.6 in /home/users/harshit.sahu/Desktop/github_pros/voicebot/.venv/lib/python3.10/site-packages (from torch) (11.11.3.6)\n",
      "Requirement already satisfied: nvidia-cufft-cu11==10.9.0.58 in /home/users/harshit.sahu/Desktop/github_pros/voicebot/.venv/lib/python3.10/site-packages (from torch) (10.9.0.58)\n",
      "Requirement already satisfied: nvidia-curand-cu11==10.3.0.86 in /home/users/harshit.sahu/Desktop/github_pros/voicebot/.venv/lib/python3.10/site-packages (from torch) (10.3.0.86)\n",
      "Requirement already satisfied: nvidia-cusolver-cu11==11.4.1.48 in /home/users/harshit.sahu/Desktop/github_pros/voicebot/.venv/lib/python3.10/site-packages (from torch) (11.4.1.48)\n",
      "Requirement already satisfied: nvidia-cusparse-cu11==11.7.5.86 in /home/users/harshit.sahu/Desktop/github_pros/voicebot/.venv/lib/python3.10/site-packages (from torch) (11.7.5.86)\n",
      "Requirement already satisfied: nvidia-nccl-cu11==2.20.5 in /home/users/harshit.sahu/Desktop/github_pros/voicebot/.venv/lib/python3.10/site-packages (from torch) (2.20.5)\n",
      "Requirement already satisfied: nvidia-nvtx-cu11==11.8.86 in /home/users/harshit.sahu/Desktop/github_pros/voicebot/.venv/lib/python3.10/site-packages (from torch) (11.8.86)\n",
      "Requirement already satisfied: triton==3.0.0 in /home/users/harshit.sahu/Desktop/github_pros/voicebot/.venv/lib/python3.10/site-packages (from torch) (3.0.0)\n",
      "Requirement already satisfied: numpy in /home/users/harshit.sahu/Desktop/github_pros/voicebot/.venv/lib/python3.10/site-packages (from torchvision) (1.22.0)\n",
      "Requirement already satisfied: pillow!=8.3.*,>=5.3.0 in /home/users/harshit.sahu/Desktop/github_pros/voicebot/.venv/lib/python3.10/site-packages (from torchvision) (10.2.0)\n",
      "Requirement already satisfied: MarkupSafe>=2.0 in /home/users/harshit.sahu/Desktop/github_pros/voicebot/.venv/lib/python3.10/site-packages (from jinja2->torch) (2.1.5)\n",
      "Requirement already satisfied: mpmath>=0.19 in /home/users/harshit.sahu/Desktop/github_pros/voicebot/.venv/lib/python3.10/site-packages (from sympy->torch) (1.3.0)\n",
      "\n",
      "\u001b[1m[\u001b[0m\u001b[34;49mnotice\u001b[0m\u001b[1;39;49m]\u001b[0m\u001b[39;49m A new release of pip is available: \u001b[0m\u001b[31;49m24.1.2\u001b[0m\u001b[39;49m -> \u001b[0m\u001b[32;49m24.2\u001b[0m\n",
      "\u001b[1m[\u001b[0m\u001b[34;49mnotice\u001b[0m\u001b[1;39;49m]\u001b[0m\u001b[39;49m To update, run: \u001b[0m\u001b[32;49mpip install --upgrade pip\u001b[0m\n"
     ]
    }
   ],
   "source": [
    "!pip install torch torchvision torchaudio --index-url https://download.pytorch.org/whl/cu118"
   ]
  },
  {
   "cell_type": "code",
   "execution_count": 3,
   "metadata": {},
   "outputs": [
    {
     "name": "stdout",
     "output_type": "stream",
     "text": [
      "Requirement already satisfied: librosa in /home/users/harshit.sahu/Desktop/github_pros/voicebot/.venv/lib/python3.10/site-packages (0.10.0)\n",
      "Requirement already satisfied: audioread>=2.1.9 in /home/users/harshit.sahu/Desktop/github_pros/voicebot/.venv/lib/python3.10/site-packages (from librosa) (3.0.1)\n",
      "Requirement already satisfied: numpy>=1.20.3 in /home/users/harshit.sahu/Desktop/github_pros/voicebot/.venv/lib/python3.10/site-packages (from librosa) (1.22.0)\n",
      "Requirement already satisfied: scipy>=1.2.0 in /home/users/harshit.sahu/Desktop/github_pros/voicebot/.venv/lib/python3.10/site-packages (from librosa) (1.11.4)\n",
      "Requirement already satisfied: scikit-learn>=0.20.0 in /home/users/harshit.sahu/Desktop/github_pros/voicebot/.venv/lib/python3.10/site-packages (from librosa) (1.5.1)\n",
      "Requirement already satisfied: joblib>=0.14 in /home/users/harshit.sahu/Desktop/github_pros/voicebot/.venv/lib/python3.10/site-packages (from librosa) (1.4.2)\n",
      "Requirement already satisfied: decorator>=4.3.0 in /home/users/harshit.sahu/Desktop/github_pros/voicebot/.venv/lib/python3.10/site-packages (from librosa) (5.1.1)\n",
      "Requirement already satisfied: numba>=0.51.0 in /home/users/harshit.sahu/Desktop/github_pros/voicebot/.venv/lib/python3.10/site-packages (from librosa) (0.60.0)\n",
      "Requirement already satisfied: soundfile>=0.12.1 in /home/users/harshit.sahu/Desktop/github_pros/voicebot/.venv/lib/python3.10/site-packages (from librosa) (0.12.1)\n",
      "Requirement already satisfied: pooch>=1.0 in /home/users/harshit.sahu/Desktop/github_pros/voicebot/.venv/lib/python3.10/site-packages (from librosa) (1.8.2)\n",
      "Requirement already satisfied: soxr>=0.3.2 in /home/users/harshit.sahu/Desktop/github_pros/voicebot/.venv/lib/python3.10/site-packages (from librosa) (0.4.0)\n",
      "Requirement already satisfied: typing-extensions>=4.1.1 in /home/users/harshit.sahu/Desktop/github_pros/voicebot/.venv/lib/python3.10/site-packages (from librosa) (4.12.2)\n",
      "Requirement already satisfied: lazy-loader>=0.1 in /home/users/harshit.sahu/Desktop/github_pros/voicebot/.venv/lib/python3.10/site-packages (from librosa) (0.4)\n",
      "Requirement already satisfied: msgpack>=1.0 in /home/users/harshit.sahu/Desktop/github_pros/voicebot/.venv/lib/python3.10/site-packages (from librosa) (1.0.8)\n",
      "Requirement already satisfied: packaging in /home/users/harshit.sahu/Desktop/github_pros/voicebot/.venv/lib/python3.10/site-packages (from lazy-loader>=0.1->librosa) (24.1)\n",
      "Requirement already satisfied: llvmlite<0.44,>=0.43.0dev0 in /home/users/harshit.sahu/Desktop/github_pros/voicebot/.venv/lib/python3.10/site-packages (from numba>=0.51.0->librosa) (0.43.0)\n",
      "Requirement already satisfied: platformdirs>=2.5.0 in /home/users/harshit.sahu/Desktop/github_pros/voicebot/.venv/lib/python3.10/site-packages (from pooch>=1.0->librosa) (4.2.2)\n",
      "Requirement already satisfied: requests>=2.19.0 in /home/users/harshit.sahu/Desktop/github_pros/voicebot/.venv/lib/python3.10/site-packages (from pooch>=1.0->librosa) (2.32.3)\n",
      "Requirement already satisfied: threadpoolctl>=3.1.0 in /home/users/harshit.sahu/Desktop/github_pros/voicebot/.venv/lib/python3.10/site-packages (from scikit-learn>=0.20.0->librosa) (3.5.0)\n",
      "Requirement already satisfied: cffi>=1.0 in /home/users/harshit.sahu/Desktop/github_pros/voicebot/.venv/lib/python3.10/site-packages (from soundfile>=0.12.1->librosa) (1.16.0)\n",
      "Requirement already satisfied: pycparser in /home/users/harshit.sahu/Desktop/github_pros/voicebot/.venv/lib/python3.10/site-packages (from cffi>=1.0->soundfile>=0.12.1->librosa) (2.22)\n",
      "Requirement already satisfied: charset-normalizer<4,>=2 in /home/users/harshit.sahu/Desktop/github_pros/voicebot/.venv/lib/python3.10/site-packages (from requests>=2.19.0->pooch>=1.0->librosa) (3.3.2)\n",
      "Requirement already satisfied: idna<4,>=2.5 in /home/users/harshit.sahu/Desktop/github_pros/voicebot/.venv/lib/python3.10/site-packages (from requests>=2.19.0->pooch>=1.0->librosa) (3.7)\n",
      "Requirement already satisfied: urllib3<3,>=1.21.1 in /home/users/harshit.sahu/Desktop/github_pros/voicebot/.venv/lib/python3.10/site-packages (from requests>=2.19.0->pooch>=1.0->librosa) (2.2.2)\n",
      "Requirement already satisfied: certifi>=2017.4.17 in /home/users/harshit.sahu/Desktop/github_pros/voicebot/.venv/lib/python3.10/site-packages (from requests>=2.19.0->pooch>=1.0->librosa) (2024.7.4)\n",
      "\n",
      "\u001b[1m[\u001b[0m\u001b[34;49mnotice\u001b[0m\u001b[1;39;49m]\u001b[0m\u001b[39;49m A new release of pip is available: \u001b[0m\u001b[31;49m24.1.2\u001b[0m\u001b[39;49m -> \u001b[0m\u001b[32;49m24.2\u001b[0m\n",
      "\u001b[1m[\u001b[0m\u001b[34;49mnotice\u001b[0m\u001b[1;39;49m]\u001b[0m\u001b[39;49m To update, run: \u001b[0m\u001b[32;49mpip install --upgrade pip\u001b[0m\n"
     ]
    }
   ],
   "source": [
    "!pip install librosa"
   ]
  },
  {
   "cell_type": "code",
   "execution_count": 4,
   "metadata": {},
   "outputs": [
    {
     "name": "stderr",
     "output_type": "stream",
     "text": [
      "/home/users/harshit.sahu/Desktop/github_pros/voicebot/.venv/lib/python3.10/site-packages/tqdm/auto.py:21: TqdmWarning: IProgress not found. Please update jupyter and ipywidgets. See https://ipywidgets.readthedocs.io/en/stable/user_install.html\n",
      "  from .autonotebook import tqdm as notebook_tqdm\n"
     ]
    }
   ],
   "source": [
    "from transformers import WhisperProcessor, WhisperForConditionalGeneration\n"
   ]
  },
  {
   "cell_type": "code",
   "execution_count": 5,
   "metadata": {},
   "outputs": [],
   "source": [
    "# Load the Whisper small model and processor\n",
    "model_name = \"openai/whisper-tiny\"\n",
    "processor = WhisperProcessor.from_pretrained(model_name)\n",
    "model = WhisperForConditionalGeneration.from_pretrained(model_name)"
   ]
  },
  {
   "cell_type": "code",
   "execution_count": 6,
   "metadata": {},
   "outputs": [],
   "source": [
    "import librosa\n",
    "\n",
    "# Load your own audio file\n",
    "audio_path = \"harvard.wav\"\n",
    "audio_input, sample_rate = librosa.load(audio_path, sr=16000)"
   ]
  },
  {
   "cell_type": "code",
   "execution_count": 7,
   "metadata": {},
   "outputs": [
    {
     "name": "stderr",
     "output_type": "stream",
     "text": [
      "Due to a bug fix in https://github.com/huggingface/transformers/pull/28687 transcription using a multilingual Whisper will default to language detection followed by transcription instead of translation to English.This might be a breaking change for your use case. If you want to instead always translate your audio to English, make sure to pass `language='en'`.\n",
      "Passing a tuple of `past_key_values` is deprecated and will be removed in Transformers v4.43.0. You should pass an instance of `EncoderDecoderCache` instead, e.g. `past_key_values=EncoderDecoderCache.from_legacy_cache(past_key_values)`.\n",
      "The attention mask is not set and cannot be inferred from input because pad token is same as eos token.As a consequence, you may observe unexpected behavior. Please pass your input's `attention_mask` to obtain reliable results.\n"
     ]
    },
    {
     "data": {
      "text/plain": [
       "[' The stale smell of old beer lingers. It takes heat to bring out the odor. A cold dip restores health in zest. A salt pickle tastes fine with ham. Tacos all pastora are my favorite. A zestful food is the hot cross bun.']"
      ]
     },
     "execution_count": 7,
     "metadata": {},
     "output_type": "execute_result"
    }
   ],
   "source": [
    "# Preprocess the audio input\n",
    "inputs = processor(audio_input, return_tensors=\"pt\", sampling_rate=16000, language = \"en\")\n",
    "\n",
    "# Generate transcription\n",
    "predicted_ids = model.generate(inputs[\"input_features\"])\n",
    "\n",
    "# Decode the transcription\n",
    "transcription = processor.batch_decode(predicted_ids, skip_special_tokens=True)\n",
    "\n",
    "transcription"
   ]
  },
  {
   "cell_type": "markdown",
   "metadata": {},
   "source": [
    "# text to speech"
   ]
  },
  {
   "cell_type": "code",
   "execution_count": 8,
   "metadata": {},
   "outputs": [
    {
     "name": "stdout",
     "output_type": "stream",
     "text": [
      "Requirement already satisfied: TTS in /home/users/harshit.sahu/Desktop/github_pros/voicebot/.venv/lib/python3.10/site-packages (0.22.0)\n",
      "Requirement already satisfied: cython>=0.29.30 in /home/users/harshit.sahu/Desktop/github_pros/voicebot/.venv/lib/python3.10/site-packages (from TTS) (3.0.10)\n",
      "Requirement already satisfied: scipy>=1.11.2 in /home/users/harshit.sahu/Desktop/github_pros/voicebot/.venv/lib/python3.10/site-packages (from TTS) (1.11.4)\n",
      "Requirement already satisfied: torch>=2.1 in /home/users/harshit.sahu/Desktop/github_pros/voicebot/.venv/lib/python3.10/site-packages (from TTS) (2.4.0+cu118)\n",
      "Requirement already satisfied: torchaudio in /home/users/harshit.sahu/Desktop/github_pros/voicebot/.venv/lib/python3.10/site-packages (from TTS) (2.4.0+cu118)\n",
      "Requirement already satisfied: soundfile>=0.12.0 in /home/users/harshit.sahu/Desktop/github_pros/voicebot/.venv/lib/python3.10/site-packages (from TTS) (0.12.1)\n",
      "Requirement already satisfied: librosa>=0.10.0 in /home/users/harshit.sahu/Desktop/github_pros/voicebot/.venv/lib/python3.10/site-packages (from TTS) (0.10.0)\n",
      "Requirement already satisfied: scikit-learn>=1.3.0 in /home/users/harshit.sahu/Desktop/github_pros/voicebot/.venv/lib/python3.10/site-packages (from TTS) (1.5.1)\n",
      "Requirement already satisfied: inflect>=5.6.0 in /home/users/harshit.sahu/Desktop/github_pros/voicebot/.venv/lib/python3.10/site-packages (from TTS) (7.3.1)\n",
      "Requirement already satisfied: tqdm>=4.64.1 in /home/users/harshit.sahu/Desktop/github_pros/voicebot/.venv/lib/python3.10/site-packages (from TTS) (4.66.4)\n",
      "Requirement already satisfied: anyascii>=0.3.0 in /home/users/harshit.sahu/Desktop/github_pros/voicebot/.venv/lib/python3.10/site-packages (from TTS) (0.3.2)\n",
      "Requirement already satisfied: pyyaml>=6.0 in /home/users/harshit.sahu/Desktop/github_pros/voicebot/.venv/lib/python3.10/site-packages (from TTS) (6.0.1)\n",
      "Requirement already satisfied: fsspec>=2023.6.0 in /home/users/harshit.sahu/Desktop/github_pros/voicebot/.venv/lib/python3.10/site-packages (from TTS) (2024.5.0)\n",
      "Requirement already satisfied: aiohttp>=3.8.1 in /home/users/harshit.sahu/Desktop/github_pros/voicebot/.venv/lib/python3.10/site-packages (from TTS) (3.10.0)\n",
      "Requirement already satisfied: packaging>=23.1 in /home/users/harshit.sahu/Desktop/github_pros/voicebot/.venv/lib/python3.10/site-packages (from TTS) (24.1)\n",
      "Requirement already satisfied: flask>=2.0.1 in /home/users/harshit.sahu/Desktop/github_pros/voicebot/.venv/lib/python3.10/site-packages (from TTS) (3.0.3)\n",
      "Requirement already satisfied: pysbd>=0.3.4 in /home/users/harshit.sahu/Desktop/github_pros/voicebot/.venv/lib/python3.10/site-packages (from TTS) (0.3.4)\n",
      "Requirement already satisfied: umap-learn>=0.5.1 in /home/users/harshit.sahu/Desktop/github_pros/voicebot/.venv/lib/python3.10/site-packages (from TTS) (0.5.6)\n",
      "Requirement already satisfied: pandas<2.0,>=1.4 in /home/users/harshit.sahu/Desktop/github_pros/voicebot/.venv/lib/python3.10/site-packages (from TTS) (1.5.3)\n",
      "Requirement already satisfied: matplotlib>=3.7.0 in /home/users/harshit.sahu/Desktop/github_pros/voicebot/.venv/lib/python3.10/site-packages (from TTS) (3.8.4)\n",
      "Requirement already satisfied: trainer>=0.0.32 in /home/users/harshit.sahu/Desktop/github_pros/voicebot/.venv/lib/python3.10/site-packages (from TTS) (0.0.36)\n",
      "Requirement already satisfied: coqpit>=0.0.16 in /home/users/harshit.sahu/Desktop/github_pros/voicebot/.venv/lib/python3.10/site-packages (from TTS) (0.0.17)\n",
      "Requirement already satisfied: jieba in /home/users/harshit.sahu/Desktop/github_pros/voicebot/.venv/lib/python3.10/site-packages (from TTS) (0.42.1)\n",
      "Requirement already satisfied: pypinyin in /home/users/harshit.sahu/Desktop/github_pros/voicebot/.venv/lib/python3.10/site-packages (from TTS) (0.51.0)\n",
      "Requirement already satisfied: hangul-romanize in /home/users/harshit.sahu/Desktop/github_pros/voicebot/.venv/lib/python3.10/site-packages (from TTS) (0.1.0)\n",
      "Requirement already satisfied: gruut==2.2.3 in /home/users/harshit.sahu/Desktop/github_pros/voicebot/.venv/lib/python3.10/site-packages (from gruut[de,es,fr]==2.2.3->TTS) (2.2.3)\n",
      "Requirement already satisfied: jamo in /home/users/harshit.sahu/Desktop/github_pros/voicebot/.venv/lib/python3.10/site-packages (from TTS) (0.4.1)\n",
      "Requirement already satisfied: nltk in /home/users/harshit.sahu/Desktop/github_pros/voicebot/.venv/lib/python3.10/site-packages (from TTS) (3.8.1)\n",
      "Requirement already satisfied: g2pkk>=0.1.1 in /home/users/harshit.sahu/Desktop/github_pros/voicebot/.venv/lib/python3.10/site-packages (from TTS) (0.1.2)\n",
      "Requirement already satisfied: bangla in /home/users/harshit.sahu/Desktop/github_pros/voicebot/.venv/lib/python3.10/site-packages (from TTS) (0.0.2)\n",
      "Requirement already satisfied: bnnumerizer in /home/users/harshit.sahu/Desktop/github_pros/voicebot/.venv/lib/python3.10/site-packages (from TTS) (0.0.2)\n",
      "Requirement already satisfied: bnunicodenormalizer in /home/users/harshit.sahu/Desktop/github_pros/voicebot/.venv/lib/python3.10/site-packages (from TTS) (0.1.7)\n",
      "Requirement already satisfied: einops>=0.6.0 in /home/users/harshit.sahu/Desktop/github_pros/voicebot/.venv/lib/python3.10/site-packages (from TTS) (0.8.0)\n",
      "Requirement already satisfied: transformers>=4.33.0 in /home/users/harshit.sahu/Desktop/github_pros/voicebot/.venv/lib/python3.10/site-packages (from TTS) (4.43.3)\n",
      "Requirement already satisfied: encodec>=0.1.1 in /home/users/harshit.sahu/Desktop/github_pros/voicebot/.venv/lib/python3.10/site-packages (from TTS) (0.1.1)\n",
      "Requirement already satisfied: unidecode>=1.3.2 in /home/users/harshit.sahu/Desktop/github_pros/voicebot/.venv/lib/python3.10/site-packages (from TTS) (1.3.8)\n",
      "Requirement already satisfied: num2words in /home/users/harshit.sahu/Desktop/github_pros/voicebot/.venv/lib/python3.10/site-packages (from TTS) (0.5.13)\n",
      "Requirement already satisfied: spacy>=3 in /home/users/harshit.sahu/Desktop/github_pros/voicebot/.venv/lib/python3.10/site-packages (from spacy[ja]>=3->TTS) (3.7.5)\n",
      "Requirement already satisfied: numpy==1.22.0 in /home/users/harshit.sahu/Desktop/github_pros/voicebot/.venv/lib/python3.10/site-packages (from TTS) (1.22.0)\n",
      "Requirement already satisfied: numba>=0.57.0 in /home/users/harshit.sahu/Desktop/github_pros/voicebot/.venv/lib/python3.10/site-packages (from TTS) (0.60.0)\n",
      "Requirement already satisfied: Babel<3.0.0,>=2.8.0 in /home/users/harshit.sahu/Desktop/github_pros/voicebot/.venv/lib/python3.10/site-packages (from gruut==2.2.3->gruut[de,es,fr]==2.2.3->TTS) (2.15.0)\n",
      "Requirement already satisfied: dateparser~=1.1.0 in /home/users/harshit.sahu/Desktop/github_pros/voicebot/.venv/lib/python3.10/site-packages (from gruut==2.2.3->gruut[de,es,fr]==2.2.3->TTS) (1.1.8)\n",
      "Requirement already satisfied: gruut-ipa<1.0,>=0.12.0 in /home/users/harshit.sahu/Desktop/github_pros/voicebot/.venv/lib/python3.10/site-packages (from gruut==2.2.3->gruut[de,es,fr]==2.2.3->TTS) (0.13.0)\n",
      "Requirement already satisfied: gruut-lang-en~=2.0.0 in /home/users/harshit.sahu/Desktop/github_pros/voicebot/.venv/lib/python3.10/site-packages (from gruut==2.2.3->gruut[de,es,fr]==2.2.3->TTS) (2.0.1)\n",
      "Requirement already satisfied: jsonlines~=1.2.0 in /home/users/harshit.sahu/Desktop/github_pros/voicebot/.venv/lib/python3.10/site-packages (from gruut==2.2.3->gruut[de,es,fr]==2.2.3->TTS) (1.2.0)\n",
      "Requirement already satisfied: networkx<3.0.0,>=2.5.0 in /home/users/harshit.sahu/Desktop/github_pros/voicebot/.venv/lib/python3.10/site-packages (from gruut==2.2.3->gruut[de,es,fr]==2.2.3->TTS) (2.8.8)\n",
      "Requirement already satisfied: python-crfsuite~=0.9.7 in /home/users/harshit.sahu/Desktop/github_pros/voicebot/.venv/lib/python3.10/site-packages (from gruut==2.2.3->gruut[de,es,fr]==2.2.3->TTS) (0.9.10)\n",
      "Requirement already satisfied: gruut-lang-de~=2.0.0 in /home/users/harshit.sahu/Desktop/github_pros/voicebot/.venv/lib/python3.10/site-packages (from gruut[de,es,fr]==2.2.3->TTS) (2.0.1)\n",
      "Requirement already satisfied: gruut-lang-fr~=2.0.0 in /home/users/harshit.sahu/Desktop/github_pros/voicebot/.venv/lib/python3.10/site-packages (from gruut[de,es,fr]==2.2.3->TTS) (2.0.2)\n",
      "Requirement already satisfied: gruut-lang-es~=2.0.0 in /home/users/harshit.sahu/Desktop/github_pros/voicebot/.venv/lib/python3.10/site-packages (from gruut[de,es,fr]==2.2.3->TTS) (2.0.1)\n",
      "Requirement already satisfied: aiohappyeyeballs>=2.3.0 in /home/users/harshit.sahu/Desktop/github_pros/voicebot/.venv/lib/python3.10/site-packages (from aiohttp>=3.8.1->TTS) (2.3.2)\n",
      "Requirement already satisfied: aiosignal>=1.1.2 in /home/users/harshit.sahu/Desktop/github_pros/voicebot/.venv/lib/python3.10/site-packages (from aiohttp>=3.8.1->TTS) (1.3.1)\n",
      "Requirement already satisfied: attrs>=17.3.0 in /home/users/harshit.sahu/Desktop/github_pros/voicebot/.venv/lib/python3.10/site-packages (from aiohttp>=3.8.1->TTS) (23.2.0)\n",
      "Requirement already satisfied: frozenlist>=1.1.1 in /home/users/harshit.sahu/Desktop/github_pros/voicebot/.venv/lib/python3.10/site-packages (from aiohttp>=3.8.1->TTS) (1.4.1)\n",
      "Requirement already satisfied: multidict<7.0,>=4.5 in /home/users/harshit.sahu/Desktop/github_pros/voicebot/.venv/lib/python3.10/site-packages (from aiohttp>=3.8.1->TTS) (6.0.5)\n",
      "Requirement already satisfied: yarl<2.0,>=1.0 in /home/users/harshit.sahu/Desktop/github_pros/voicebot/.venv/lib/python3.10/site-packages (from aiohttp>=3.8.1->TTS) (1.9.4)\n",
      "Requirement already satisfied: async-timeout<5.0,>=4.0 in /home/users/harshit.sahu/Desktop/github_pros/voicebot/.venv/lib/python3.10/site-packages (from aiohttp>=3.8.1->TTS) (4.0.3)\n",
      "Requirement already satisfied: Werkzeug>=3.0.0 in /home/users/harshit.sahu/Desktop/github_pros/voicebot/.venv/lib/python3.10/site-packages (from flask>=2.0.1->TTS) (3.0.3)\n",
      "Requirement already satisfied: Jinja2>=3.1.2 in /home/users/harshit.sahu/Desktop/github_pros/voicebot/.venv/lib/python3.10/site-packages (from flask>=2.0.1->TTS) (3.1.3)\n",
      "Requirement already satisfied: itsdangerous>=2.1.2 in /home/users/harshit.sahu/Desktop/github_pros/voicebot/.venv/lib/python3.10/site-packages (from flask>=2.0.1->TTS) (2.2.0)\n",
      "Requirement already satisfied: click>=8.1.3 in /home/users/harshit.sahu/Desktop/github_pros/voicebot/.venv/lib/python3.10/site-packages (from flask>=2.0.1->TTS) (8.1.7)\n",
      "Requirement already satisfied: blinker>=1.6.2 in /home/users/harshit.sahu/Desktop/github_pros/voicebot/.venv/lib/python3.10/site-packages (from flask>=2.0.1->TTS) (1.8.2)\n",
      "Requirement already satisfied: more-itertools>=8.5.0 in /home/users/harshit.sahu/Desktop/github_pros/voicebot/.venv/lib/python3.10/site-packages (from inflect>=5.6.0->TTS) (10.3.0)\n",
      "Requirement already satisfied: typeguard>=4.0.1 in /home/users/harshit.sahu/Desktop/github_pros/voicebot/.venv/lib/python3.10/site-packages (from inflect>=5.6.0->TTS) (4.3.0)\n",
      "Requirement already satisfied: audioread>=2.1.9 in /home/users/harshit.sahu/Desktop/github_pros/voicebot/.venv/lib/python3.10/site-packages (from librosa>=0.10.0->TTS) (3.0.1)\n",
      "Requirement already satisfied: joblib>=0.14 in /home/users/harshit.sahu/Desktop/github_pros/voicebot/.venv/lib/python3.10/site-packages (from librosa>=0.10.0->TTS) (1.4.2)\n",
      "Requirement already satisfied: decorator>=4.3.0 in /home/users/harshit.sahu/Desktop/github_pros/voicebot/.venv/lib/python3.10/site-packages (from librosa>=0.10.0->TTS) (5.1.1)\n",
      "Requirement already satisfied: pooch>=1.0 in /home/users/harshit.sahu/Desktop/github_pros/voicebot/.venv/lib/python3.10/site-packages (from librosa>=0.10.0->TTS) (1.8.2)\n",
      "Requirement already satisfied: soxr>=0.3.2 in /home/users/harshit.sahu/Desktop/github_pros/voicebot/.venv/lib/python3.10/site-packages (from librosa>=0.10.0->TTS) (0.4.0)\n",
      "Requirement already satisfied: typing-extensions>=4.1.1 in /home/users/harshit.sahu/Desktop/github_pros/voicebot/.venv/lib/python3.10/site-packages (from librosa>=0.10.0->TTS) (4.12.2)\n",
      "Requirement already satisfied: lazy-loader>=0.1 in /home/users/harshit.sahu/Desktop/github_pros/voicebot/.venv/lib/python3.10/site-packages (from librosa>=0.10.0->TTS) (0.4)\n",
      "Requirement already satisfied: msgpack>=1.0 in /home/users/harshit.sahu/Desktop/github_pros/voicebot/.venv/lib/python3.10/site-packages (from librosa>=0.10.0->TTS) (1.0.8)\n",
      "Requirement already satisfied: contourpy>=1.0.1 in /home/users/harshit.sahu/Desktop/github_pros/voicebot/.venv/lib/python3.10/site-packages (from matplotlib>=3.7.0->TTS) (1.2.1)\n",
      "Requirement already satisfied: cycler>=0.10 in /home/users/harshit.sahu/Desktop/github_pros/voicebot/.venv/lib/python3.10/site-packages (from matplotlib>=3.7.0->TTS) (0.12.1)\n",
      "Requirement already satisfied: fonttools>=4.22.0 in /home/users/harshit.sahu/Desktop/github_pros/voicebot/.venv/lib/python3.10/site-packages (from matplotlib>=3.7.0->TTS) (4.53.1)\n",
      "Requirement already satisfied: kiwisolver>=1.3.1 in /home/users/harshit.sahu/Desktop/github_pros/voicebot/.venv/lib/python3.10/site-packages (from matplotlib>=3.7.0->TTS) (1.4.5)\n",
      "Requirement already satisfied: pillow>=8 in /home/users/harshit.sahu/Desktop/github_pros/voicebot/.venv/lib/python3.10/site-packages (from matplotlib>=3.7.0->TTS) (10.2.0)\n",
      "Requirement already satisfied: pyparsing>=2.3.1 in /home/users/harshit.sahu/Desktop/github_pros/voicebot/.venv/lib/python3.10/site-packages (from matplotlib>=3.7.0->TTS) (3.1.2)\n",
      "Requirement already satisfied: python-dateutil>=2.7 in /home/users/harshit.sahu/Desktop/github_pros/voicebot/.venv/lib/python3.10/site-packages (from matplotlib>=3.7.0->TTS) (2.9.0.post0)\n",
      "Requirement already satisfied: docopt>=0.6.2 in /home/users/harshit.sahu/Desktop/github_pros/voicebot/.venv/lib/python3.10/site-packages (from num2words->TTS) (0.6.2)\n",
      "Requirement already satisfied: llvmlite<0.44,>=0.43.0dev0 in /home/users/harshit.sahu/Desktop/github_pros/voicebot/.venv/lib/python3.10/site-packages (from numba>=0.57.0->TTS) (0.43.0)\n",
      "Requirement already satisfied: pytz>=2020.1 in /home/users/harshit.sahu/Desktop/github_pros/voicebot/.venv/lib/python3.10/site-packages (from pandas<2.0,>=1.4->TTS) (2024.1)\n",
      "Requirement already satisfied: threadpoolctl>=3.1.0 in /home/users/harshit.sahu/Desktop/github_pros/voicebot/.venv/lib/python3.10/site-packages (from scikit-learn>=1.3.0->TTS) (3.5.0)\n",
      "Requirement already satisfied: cffi>=1.0 in /home/users/harshit.sahu/Desktop/github_pros/voicebot/.venv/lib/python3.10/site-packages (from soundfile>=0.12.0->TTS) (1.16.0)\n",
      "Requirement already satisfied: spacy-legacy<3.1.0,>=3.0.11 in /home/users/harshit.sahu/Desktop/github_pros/voicebot/.venv/lib/python3.10/site-packages (from spacy>=3->spacy[ja]>=3->TTS) (3.0.12)\n",
      "Requirement already satisfied: spacy-loggers<2.0.0,>=1.0.0 in /home/users/harshit.sahu/Desktop/github_pros/voicebot/.venv/lib/python3.10/site-packages (from spacy>=3->spacy[ja]>=3->TTS) (1.0.5)\n",
      "Requirement already satisfied: murmurhash<1.1.0,>=0.28.0 in /home/users/harshit.sahu/Desktop/github_pros/voicebot/.venv/lib/python3.10/site-packages (from spacy>=3->spacy[ja]>=3->TTS) (1.0.10)\n",
      "Requirement already satisfied: cymem<2.1.0,>=2.0.2 in /home/users/harshit.sahu/Desktop/github_pros/voicebot/.venv/lib/python3.10/site-packages (from spacy>=3->spacy[ja]>=3->TTS) (2.0.8)\n",
      "Requirement already satisfied: preshed<3.1.0,>=3.0.2 in /home/users/harshit.sahu/Desktop/github_pros/voicebot/.venv/lib/python3.10/site-packages (from spacy>=3->spacy[ja]>=3->TTS) (3.0.9)\n",
      "Requirement already satisfied: thinc<8.3.0,>=8.2.2 in /home/users/harshit.sahu/Desktop/github_pros/voicebot/.venv/lib/python3.10/site-packages (from spacy>=3->spacy[ja]>=3->TTS) (8.2.5)\n",
      "Requirement already satisfied: wasabi<1.2.0,>=0.9.1 in /home/users/harshit.sahu/Desktop/github_pros/voicebot/.venv/lib/python3.10/site-packages (from spacy>=3->spacy[ja]>=3->TTS) (1.1.3)\n",
      "Requirement already satisfied: srsly<3.0.0,>=2.4.3 in /home/users/harshit.sahu/Desktop/github_pros/voicebot/.venv/lib/python3.10/site-packages (from spacy>=3->spacy[ja]>=3->TTS) (2.4.8)\n",
      "Requirement already satisfied: catalogue<2.1.0,>=2.0.6 in /home/users/harshit.sahu/Desktop/github_pros/voicebot/.venv/lib/python3.10/site-packages (from spacy>=3->spacy[ja]>=3->TTS) (2.0.10)\n",
      "Requirement already satisfied: weasel<0.5.0,>=0.1.0 in /home/users/harshit.sahu/Desktop/github_pros/voicebot/.venv/lib/python3.10/site-packages (from spacy>=3->spacy[ja]>=3->TTS) (0.4.1)\n",
      "Requirement already satisfied: typer<1.0.0,>=0.3.0 in /home/users/harshit.sahu/Desktop/github_pros/voicebot/.venv/lib/python3.10/site-packages (from spacy>=3->spacy[ja]>=3->TTS) (0.12.3)\n",
      "Requirement already satisfied: requests<3.0.0,>=2.13.0 in /home/users/harshit.sahu/Desktop/github_pros/voicebot/.venv/lib/python3.10/site-packages (from spacy>=3->spacy[ja]>=3->TTS) (2.32.3)\n",
      "Requirement already satisfied: pydantic!=1.8,!=1.8.1,<3.0.0,>=1.7.4 in /home/users/harshit.sahu/Desktop/github_pros/voicebot/.venv/lib/python3.10/site-packages (from spacy>=3->spacy[ja]>=3->TTS) (2.8.2)\n",
      "Requirement already satisfied: setuptools in /home/users/harshit.sahu/Desktop/github_pros/voicebot/.venv/lib/python3.10/site-packages (from spacy>=3->spacy[ja]>=3->TTS) (70.2.0)\n",
      "Requirement already satisfied: langcodes<4.0.0,>=3.2.0 in /home/users/harshit.sahu/Desktop/github_pros/voicebot/.venv/lib/python3.10/site-packages (from spacy>=3->spacy[ja]>=3->TTS) (3.4.0)\n",
      "Requirement already satisfied: sudachipy!=0.6.1,>=0.5.2 in /home/users/harshit.sahu/Desktop/github_pros/voicebot/.venv/lib/python3.10/site-packages (from spacy[ja]>=3->TTS) (0.6.8)\n",
      "Requirement already satisfied: sudachidict-core>=20211220 in /home/users/harshit.sahu/Desktop/github_pros/voicebot/.venv/lib/python3.10/site-packages (from spacy[ja]>=3->TTS) (20240716)\n",
      "Requirement already satisfied: filelock in /home/users/harshit.sahu/Desktop/github_pros/voicebot/.venv/lib/python3.10/site-packages (from torch>=2.1->TTS) (3.15.4)\n",
      "Requirement already satisfied: sympy in /home/users/harshit.sahu/Desktop/github_pros/voicebot/.venv/lib/python3.10/site-packages (from torch>=2.1->TTS) (1.12)\n",
      "Requirement already satisfied: nvidia-cuda-nvrtc-cu11==11.8.89 in /home/users/harshit.sahu/Desktop/github_pros/voicebot/.venv/lib/python3.10/site-packages (from torch>=2.1->TTS) (11.8.89)\n",
      "Requirement already satisfied: nvidia-cuda-runtime-cu11==11.8.89 in /home/users/harshit.sahu/Desktop/github_pros/voicebot/.venv/lib/python3.10/site-packages (from torch>=2.1->TTS) (11.8.89)\n",
      "Requirement already satisfied: nvidia-cuda-cupti-cu11==11.8.87 in /home/users/harshit.sahu/Desktop/github_pros/voicebot/.venv/lib/python3.10/site-packages (from torch>=2.1->TTS) (11.8.87)\n",
      "Requirement already satisfied: nvidia-cudnn-cu11==9.1.0.70 in /home/users/harshit.sahu/Desktop/github_pros/voicebot/.venv/lib/python3.10/site-packages (from torch>=2.1->TTS) (9.1.0.70)\n",
      "Requirement already satisfied: nvidia-cublas-cu11==11.11.3.6 in /home/users/harshit.sahu/Desktop/github_pros/voicebot/.venv/lib/python3.10/site-packages (from torch>=2.1->TTS) (11.11.3.6)\n",
      "Requirement already satisfied: nvidia-cufft-cu11==10.9.0.58 in /home/users/harshit.sahu/Desktop/github_pros/voicebot/.venv/lib/python3.10/site-packages (from torch>=2.1->TTS) (10.9.0.58)\n",
      "Requirement already satisfied: nvidia-curand-cu11==10.3.0.86 in /home/users/harshit.sahu/Desktop/github_pros/voicebot/.venv/lib/python3.10/site-packages (from torch>=2.1->TTS) (10.3.0.86)\n",
      "Requirement already satisfied: nvidia-cusolver-cu11==11.4.1.48 in /home/users/harshit.sahu/Desktop/github_pros/voicebot/.venv/lib/python3.10/site-packages (from torch>=2.1->TTS) (11.4.1.48)\n",
      "Requirement already satisfied: nvidia-cusparse-cu11==11.7.5.86 in /home/users/harshit.sahu/Desktop/github_pros/voicebot/.venv/lib/python3.10/site-packages (from torch>=2.1->TTS) (11.7.5.86)\n",
      "Requirement already satisfied: nvidia-nccl-cu11==2.20.5 in /home/users/harshit.sahu/Desktop/github_pros/voicebot/.venv/lib/python3.10/site-packages (from torch>=2.1->TTS) (2.20.5)\n",
      "Requirement already satisfied: nvidia-nvtx-cu11==11.8.86 in /home/users/harshit.sahu/Desktop/github_pros/voicebot/.venv/lib/python3.10/site-packages (from torch>=2.1->TTS) (11.8.86)\n",
      "Requirement already satisfied: triton==3.0.0 in /home/users/harshit.sahu/Desktop/github_pros/voicebot/.venv/lib/python3.10/site-packages (from torch>=2.1->TTS) (3.0.0)\n",
      "Requirement already satisfied: psutil in /home/users/harshit.sahu/Desktop/github_pros/voicebot/.venv/lib/python3.10/site-packages (from trainer>=0.0.32->TTS) (6.0.0)\n",
      "Requirement already satisfied: tensorboard in /home/users/harshit.sahu/Desktop/github_pros/voicebot/.venv/lib/python3.10/site-packages (from trainer>=0.0.32->TTS) (2.17.0)\n",
      "Requirement already satisfied: huggingface-hub<1.0,>=0.23.2 in /home/users/harshit.sahu/Desktop/github_pros/voicebot/.venv/lib/python3.10/site-packages (from transformers>=4.33.0->TTS) (0.24.5)\n",
      "Requirement already satisfied: regex!=2019.12.17 in /home/users/harshit.sahu/Desktop/github_pros/voicebot/.venv/lib/python3.10/site-packages (from transformers>=4.33.0->TTS) (2024.7.24)\n",
      "Requirement already satisfied: safetensors>=0.4.1 in /home/users/harshit.sahu/Desktop/github_pros/voicebot/.venv/lib/python3.10/site-packages (from transformers>=4.33.0->TTS) (0.4.3)\n",
      "Requirement already satisfied: tokenizers<0.20,>=0.19 in /home/users/harshit.sahu/Desktop/github_pros/voicebot/.venv/lib/python3.10/site-packages (from transformers>=4.33.0->TTS) (0.19.1)\n",
      "Requirement already satisfied: pynndescent>=0.5 in /home/users/harshit.sahu/Desktop/github_pros/voicebot/.venv/lib/python3.10/site-packages (from umap-learn>=0.5.1->TTS) (0.5.13)\n",
      "Requirement already satisfied: pycparser in /home/users/harshit.sahu/Desktop/github_pros/voicebot/.venv/lib/python3.10/site-packages (from cffi>=1.0->soundfile>=0.12.0->TTS) (2.22)\n",
      "Requirement already satisfied: tzlocal in /home/users/harshit.sahu/Desktop/github_pros/voicebot/.venv/lib/python3.10/site-packages (from dateparser~=1.1.0->gruut==2.2.3->gruut[de,es,fr]==2.2.3->TTS) (5.2)\n",
      "Requirement already satisfied: MarkupSafe>=2.0 in /home/users/harshit.sahu/Desktop/github_pros/voicebot/.venv/lib/python3.10/site-packages (from Jinja2>=3.1.2->flask>=2.0.1->TTS) (2.1.5)\n",
      "Requirement already satisfied: six in /home/users/harshit.sahu/Desktop/github_pros/voicebot/.venv/lib/python3.10/site-packages (from jsonlines~=1.2.0->gruut==2.2.3->gruut[de,es,fr]==2.2.3->TTS) (1.16.0)\n",
      "Requirement already satisfied: language-data>=1.2 in /home/users/harshit.sahu/Desktop/github_pros/voicebot/.venv/lib/python3.10/site-packages (from langcodes<4.0.0,>=3.2.0->spacy>=3->spacy[ja]>=3->TTS) (1.2.0)\n",
      "Requirement already satisfied: platformdirs>=2.5.0 in /home/users/harshit.sahu/Desktop/github_pros/voicebot/.venv/lib/python3.10/site-packages (from pooch>=1.0->librosa>=0.10.0->TTS) (4.2.2)\n",
      "Requirement already satisfied: annotated-types>=0.4.0 in /home/users/harshit.sahu/Desktop/github_pros/voicebot/.venv/lib/python3.10/site-packages (from pydantic!=1.8,!=1.8.1,<3.0.0,>=1.7.4->spacy>=3->spacy[ja]>=3->TTS) (0.7.0)\n",
      "Requirement already satisfied: pydantic-core==2.20.1 in /home/users/harshit.sahu/Desktop/github_pros/voicebot/.venv/lib/python3.10/site-packages (from pydantic!=1.8,!=1.8.1,<3.0.0,>=1.7.4->spacy>=3->spacy[ja]>=3->TTS) (2.20.1)\n",
      "Requirement already satisfied: charset-normalizer<4,>=2 in /home/users/harshit.sahu/Desktop/github_pros/voicebot/.venv/lib/python3.10/site-packages (from requests<3.0.0,>=2.13.0->spacy>=3->spacy[ja]>=3->TTS) (3.3.2)\n",
      "Requirement already satisfied: idna<4,>=2.5 in /home/users/harshit.sahu/Desktop/github_pros/voicebot/.venv/lib/python3.10/site-packages (from requests<3.0.0,>=2.13.0->spacy>=3->spacy[ja]>=3->TTS) (3.7)\n",
      "Requirement already satisfied: urllib3<3,>=1.21.1 in /home/users/harshit.sahu/Desktop/github_pros/voicebot/.venv/lib/python3.10/site-packages (from requests<3.0.0,>=2.13.0->spacy>=3->spacy[ja]>=3->TTS) (2.2.2)\n",
      "Requirement already satisfied: certifi>=2017.4.17 in /home/users/harshit.sahu/Desktop/github_pros/voicebot/.venv/lib/python3.10/site-packages (from requests<3.0.0,>=2.13.0->spacy>=3->spacy[ja]>=3->TTS) (2024.7.4)\n",
      "Requirement already satisfied: blis<0.8.0,>=0.7.8 in /home/users/harshit.sahu/Desktop/github_pros/voicebot/.venv/lib/python3.10/site-packages (from thinc<8.3.0,>=8.2.2->spacy>=3->spacy[ja]>=3->TTS) (0.7.11)\n",
      "Requirement already satisfied: confection<1.0.0,>=0.0.1 in /home/users/harshit.sahu/Desktop/github_pros/voicebot/.venv/lib/python3.10/site-packages (from thinc<8.3.0,>=8.2.2->spacy>=3->spacy[ja]>=3->TTS) (0.1.5)\n",
      "Requirement already satisfied: shellingham>=1.3.0 in /home/users/harshit.sahu/Desktop/github_pros/voicebot/.venv/lib/python3.10/site-packages (from typer<1.0.0,>=0.3.0->spacy>=3->spacy[ja]>=3->TTS) (1.5.4)\n",
      "Requirement already satisfied: rich>=10.11.0 in /home/users/harshit.sahu/Desktop/github_pros/voicebot/.venv/lib/python3.10/site-packages (from typer<1.0.0,>=0.3.0->spacy>=3->spacy[ja]>=3->TTS) (13.7.1)\n",
      "Requirement already satisfied: cloudpathlib<1.0.0,>=0.7.0 in /home/users/harshit.sahu/Desktop/github_pros/voicebot/.venv/lib/python3.10/site-packages (from weasel<0.5.0,>=0.1.0->spacy>=3->spacy[ja]>=3->TTS) (0.18.1)\n",
      "Requirement already satisfied: smart-open<8.0.0,>=5.2.1 in /home/users/harshit.sahu/Desktop/github_pros/voicebot/.venv/lib/python3.10/site-packages (from weasel<0.5.0,>=0.1.0->spacy>=3->spacy[ja]>=3->TTS) (7.0.4)\n",
      "Requirement already satisfied: mpmath>=0.19 in /home/users/harshit.sahu/Desktop/github_pros/voicebot/.venv/lib/python3.10/site-packages (from sympy->torch>=2.1->TTS) (1.3.0)\n",
      "Requirement already satisfied: absl-py>=0.4 in /home/users/harshit.sahu/Desktop/github_pros/voicebot/.venv/lib/python3.10/site-packages (from tensorboard->trainer>=0.0.32->TTS) (2.1.0)\n",
      "Requirement already satisfied: grpcio>=1.48.2 in /home/users/harshit.sahu/Desktop/github_pros/voicebot/.venv/lib/python3.10/site-packages (from tensorboard->trainer>=0.0.32->TTS) (1.65.2)\n",
      "Requirement already satisfied: markdown>=2.6.8 in /home/users/harshit.sahu/Desktop/github_pros/voicebot/.venv/lib/python3.10/site-packages (from tensorboard->trainer>=0.0.32->TTS) (3.6)\n",
      "Requirement already satisfied: protobuf!=4.24.0,<5.0.0,>=3.19.6 in /home/users/harshit.sahu/Desktop/github_pros/voicebot/.venv/lib/python3.10/site-packages (from tensorboard->trainer>=0.0.32->TTS) (4.25.4)\n",
      "Requirement already satisfied: tensorboard-data-server<0.8.0,>=0.7.0 in /home/users/harshit.sahu/Desktop/github_pros/voicebot/.venv/lib/python3.10/site-packages (from tensorboard->trainer>=0.0.32->TTS) (0.7.2)\n",
      "Requirement already satisfied: marisa-trie>=0.7.7 in /home/users/harshit.sahu/Desktop/github_pros/voicebot/.venv/lib/python3.10/site-packages (from language-data>=1.2->langcodes<4.0.0,>=3.2.0->spacy>=3->spacy[ja]>=3->TTS) (1.2.0)\n",
      "Requirement already satisfied: markdown-it-py>=2.2.0 in /home/users/harshit.sahu/Desktop/github_pros/voicebot/.venv/lib/python3.10/site-packages (from rich>=10.11.0->typer<1.0.0,>=0.3.0->spacy>=3->spacy[ja]>=3->TTS) (3.0.0)\n",
      "Requirement already satisfied: pygments<3.0.0,>=2.13.0 in /home/users/harshit.sahu/Desktop/github_pros/voicebot/.venv/lib/python3.10/site-packages (from rich>=10.11.0->typer<1.0.0,>=0.3.0->spacy>=3->spacy[ja]>=3->TTS) (2.18.0)\n",
      "Requirement already satisfied: wrapt in /home/users/harshit.sahu/Desktop/github_pros/voicebot/.venv/lib/python3.10/site-packages (from smart-open<8.0.0,>=5.2.1->weasel<0.5.0,>=0.1.0->spacy>=3->spacy[ja]>=3->TTS) (1.16.0)\n",
      "Requirement already satisfied: mdurl~=0.1 in /home/users/harshit.sahu/Desktop/github_pros/voicebot/.venv/lib/python3.10/site-packages (from markdown-it-py>=2.2.0->rich>=10.11.0->typer<1.0.0,>=0.3.0->spacy>=3->spacy[ja]>=3->TTS) (0.1.2)\n",
      "\n",
      "\u001b[1m[\u001b[0m\u001b[34;49mnotice\u001b[0m\u001b[1;39;49m]\u001b[0m\u001b[39;49m A new release of pip is available: \u001b[0m\u001b[31;49m24.1.2\u001b[0m\u001b[39;49m -> \u001b[0m\u001b[32;49m24.2\u001b[0m\n",
      "\u001b[1m[\u001b[0m\u001b[34;49mnotice\u001b[0m\u001b[1;39;49m]\u001b[0m\u001b[39;49m To update, run: \u001b[0m\u001b[32;49mpip install --upgrade pip\u001b[0m\n"
     ]
    }
   ],
   "source": [
    "#using xtts\n",
    "!pip install TTS"
   ]
  },
  {
   "cell_type": "code",
   "execution_count": 2,
   "metadata": {},
   "outputs": [],
   "source": [
    "from TTS.api import TTS\n"
   ]
  },
  {
   "cell_type": "code",
   "execution_count": 3,
   "metadata": {},
   "outputs": [],
   "source": [
    "device = \"cpu\""
   ]
  },
  {
   "cell_type": "code",
   "execution_count": 4,
   "metadata": {},
   "outputs": [
    {
     "name": "stdout",
     "output_type": "stream",
     "text": [
      " > tts_models/multilingual/multi-dataset/xtts_v2 is already downloaded.\n"
     ]
    },
    {
     "name": "stderr",
     "output_type": "stream",
     "text": [
      "/home/users/harshit.sahu/Desktop/github_pros/voicebot/.venv/lib/python3.10/site-packages/tqdm/auto.py:21: TqdmWarning: IProgress not found. Please update jupyter and ipywidgets. See https://ipywidgets.readthedocs.io/en/stable/user_install.html\n",
      "  from .autonotebook import tqdm as notebook_tqdm\n"
     ]
    },
    {
     "name": "stdout",
     "output_type": "stream",
     "text": [
      " > Using model: xtts\n"
     ]
    },
    {
     "name": "stderr",
     "output_type": "stream",
     "text": [
      "/home/users/harshit.sahu/Desktop/github_pros/voicebot/.venv/lib/python3.10/site-packages/TTS/tts/layers/xtts/xtts_manager.py:5: FutureWarning: You are using `torch.load` with `weights_only=False` (the current default value), which uses the default pickle module implicitly. It is possible to construct malicious pickle data which will execute arbitrary code during unpickling (See https://github.com/pytorch/pytorch/blob/main/SECURITY.md#untrusted-models for more details). In a future release, the default value for `weights_only` will be flipped to `True`. This limits the functions that could be executed during unpickling. Arbitrary objects will no longer be allowed to be loaded via this mode unless they are explicitly allowlisted by the user via `torch.serialization.add_safe_globals`. We recommend you start setting `weights_only=True` for any use case where you don't have full control of the loaded file. Please open an issue on GitHub for any issues related to this experimental feature.\n",
      "  self.speakers = torch.load(speaker_file_path)\n",
      "/home/users/harshit.sahu/Desktop/github_pros/voicebot/.venv/lib/python3.10/site-packages/TTS/utils/io.py:54: FutureWarning: You are using `torch.load` with `weights_only=False` (the current default value), which uses the default pickle module implicitly. It is possible to construct malicious pickle data which will execute arbitrary code during unpickling (See https://github.com/pytorch/pytorch/blob/main/SECURITY.md#untrusted-models for more details). In a future release, the default value for `weights_only` will be flipped to `True`. This limits the functions that could be executed during unpickling. Arbitrary objects will no longer be allowed to be loaded via this mode unless they are explicitly allowlisted by the user via `torch.serialization.add_safe_globals`. We recommend you start setting `weights_only=True` for any use case where you don't have full control of the loaded file. Please open an issue on GitHub for any issues related to this experimental feature.\n",
      "  return torch.load(f, map_location=map_location, **kwargs)\n"
     ]
    }
   ],
   "source": [
    "tts = TTS(\"tts_models/multilingual/multi-dataset/xtts_v2\").to(device)"
   ]
  },
  {
   "cell_type": "code",
   "execution_count": 5,
   "metadata": {},
   "outputs": [
    {
     "name": "stdout",
     "output_type": "stream",
     "text": [
      " > Text splitted to sentences.\n",
      "['You can also try TTS without install with the docker image.', 'Simply run the following command and you will be able to run TTS without installing it.']\n"
     ]
    },
    {
     "name": "stderr",
     "output_type": "stream",
     "text": [
      "The attention mask is not set and cannot be inferred from input because pad token is same as eos token.As a consequence, you may observe unexpected behavior. Please pass your input's `attention_mask` to obtain reliable results.\n"
     ]
    },
    {
     "name": "stdout",
     "output_type": "stream",
     "text": [
      " > Processing time: 34.21788477897644\n",
      " > Real-time factor: 2.7210918904227874\n"
     ]
    },
    {
     "data": {
      "text/plain": [
       "'output.wav'"
      ]
     },
     "execution_count": 5,
     "metadata": {},
     "output_type": "execute_result"
    }
   ],
   "source": [
    "text = \"\"\"You can also try TTS without install with the docker image. \n",
    "        Simply run the following command and you will be able to run TTS without installing it.\"\"\"\n",
    "\n",
    "tts.tts_to_file(text=text, speaker_wav=\"hs.mp3\", language=\"en\", file_path=\"output.wav\")"
   ]
  },
  {
   "cell_type": "code",
   "execution_count": null,
   "metadata": {},
   "outputs": [],
   "source": []
  }
 ],
 "metadata": {
  "kernelspec": {
   "display_name": ".venv",
   "language": "python",
   "name": "python3"
  },
  "language_info": {
   "codemirror_mode": {
    "name": "ipython",
    "version": 3
   },
   "file_extension": ".py",
   "mimetype": "text/x-python",
   "name": "python",
   "nbconvert_exporter": "python",
   "pygments_lexer": "ipython3",
   "version": "3.10.14"
  }
 },
 "nbformat": 4,
 "nbformat_minor": 2
}
